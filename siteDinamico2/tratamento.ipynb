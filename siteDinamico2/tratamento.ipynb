{
 "cells": [
  {
   "cell_type": "code",
   "execution_count": 18,
   "metadata": {},
   "outputs": [],
   "source": [
    "# chamando o arquivo\n",
    "import pandas as pd\n",
    "\n",
    "df = pd.read_excel(\"processadores.xlsx\")\n"
   ]
  },
  {
   "cell_type": "code",
   "execution_count": 19,
   "metadata": {},
   "outputs": [
    {
     "name": "stdout",
     "output_type": "stream",
     "text": [
      "0     749.99\n",
      "1    1099.99\n",
      "2    1749.99\n",
      "3     649.99\n",
      "4     749.99\n",
      "5    1839.99\n",
      "6     528.97\n",
      "7    3249.99\n",
      "8    2899.99\n",
      "9    2539.99\n",
      "Name: preço, dtype: float64\n"
     ]
    }
   ],
   "source": [
    "# transformar string em float\n",
    "\n",
    "# transformar os valores de strings em numeros\n",
    "\n",
    "df['preço'] = df['preço'].str.replace('R$', '') \n",
    "df['preço'] = df['preço'].str.replace('.', '',)\n",
    "df['preço'] = df['preço'].str.replace(',', '.') \n",
    "df['preço'] = df['preço'].str.strip() \n",
    "df['preço'] = df['preço'].astype(float)\n",
    "\n",
    "print(df['preço'].head(10))\n",
    "\n",
    "                        \n",
    "\n",
    "\n"
   ]
  },
  {
   "cell_type": "code",
   "execution_count": 20,
   "metadata": {},
   "outputs": [],
   "source": [
    "# biblioteca \n",
    "\n",
    "# dicionario com palavras\n",
    "dicionario_palavras = {\n",
    "    'Processadores': ['processador', 'processadores'],\n",
    "    'Intel': ['intel', 'Intel']\n",
    "}\n"
   ]
  },
  {
   "cell_type": "code",
   "execution_count": 21,
   "metadata": {},
   "outputs": [],
   "source": [
    "# verifica se a palavra esta no dicionario\n",
    "\n",
    "def contem_palavra_dicionario(texto, dicionario):\n",
    "    texto = str(texto).lower()\n",
    "    for palavras in dicionario.values():\n",
    "        for palavra in palavras:\n",
    "            if palavra.lower() in texto:\n",
    "                return True\n",
    "    return False"
   ]
  },
  {
   "cell_type": "code",
   "execution_count": 22,
   "metadata": {},
   "outputs": [],
   "source": [
    "# armazena as palavras \n",
    "\n",
    "indices_para_remover = []\n",
    "\n",
    "for i in df.index:\n",
    "    texto = df.at[i, 'marca']\n",
    "    if not contem_palavra_dicionario(texto, dicionario_palavras):\n",
    "        indices_para_remover.append(i)"
   ]
  },
  {
   "cell_type": "code",
   "execution_count": 23,
   "metadata": {},
   "outputs": [
    {
     "name": "stdout",
     "output_type": "stream",
     "text": [
      "0      Processador Intel Core i5-12400F, 2.5GHz (4.4G...\n",
      "1      Processador Intel Core i5-12400, 2.5GHz (4.4GH...\n",
      "2      Processador Intel Core i5-14600K, 14ª Geração,...\n",
      "3      Processador Intel Core i3-10105, 3.7GHz (4.4GH...\n",
      "4      Processador Intel Core i5-10400F, 2.9GHz (4.3G...\n",
      "                             ...                        \n",
      "195    Processador Intel I7-3770, 3.90ghz, 8mb Cache ...\n",
      "196    Processador Intel Core I5 - 10400F, 2.9GHz, Ca...\n",
      "197    Processador Intel Core I5 14600k 14 Núcleos 20...\n",
      "198    Processador Intel Core I3-7320 Pull Oem Socket...\n",
      "199    Processador Intel Core I9-13900kf, 13ª Geração...\n",
      "Name: marca, Length: 200, dtype: object\n"
     ]
    }
   ],
   "source": [
    "# apaga da tabela\n",
    "\n",
    "df.drop(index=indices_para_remover, inplace=True)\n",
    "df.reset_index(drop=True, inplace=True)\n",
    "\n",
    "print(df['marca'].head(200))"
   ]
  },
  {
   "cell_type": "code",
   "execution_count": 24,
   "metadata": {},
   "outputs": [],
   "source": [
    "df.to_excel(\"processadores_limpo.xlsx\", index=False)"
   ]
  }
 ],
 "metadata": {
  "kernelspec": {
   "display_name": "Python 3",
   "language": "python",
   "name": "python3"
  },
  "language_info": {
   "codemirror_mode": {
    "name": "ipython",
    "version": 3
   },
   "file_extension": ".py",
   "mimetype": "text/x-python",
   "name": "python",
   "nbconvert_exporter": "python",
   "pygments_lexer": "ipython3",
   "version": "3.12.1"
  }
 },
 "nbformat": 4,
 "nbformat_minor": 2
}
