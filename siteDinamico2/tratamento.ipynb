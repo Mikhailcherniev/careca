{
 "cells": [
  {
   "cell_type": "code",
   "execution_count": 330,
   "metadata": {},
   "outputs": [],
   "source": [
    "# chamando o arquivo\n",
    "import pandas as pd\n",
    "\n",
    "df = pd.read_excel(\"processadores.xlsx\")\n"
   ]
  },
  {
   "cell_type": "code",
   "execution_count": 331,
   "metadata": {},
   "outputs": [
    {
     "name": "stdout",
     "output_type": "stream",
     "text": [
      "0    1749.99\n",
      "1     589.00\n",
      "2     999.99\n",
      "3     619.99\n",
      "4     749.99\n",
      "5    3399.99\n",
      "6    1399.99\n",
      "7    1299.99\n",
      "8    3099.99\n",
      "9     999.99\n",
      "Name: preço, dtype: float64\n"
     ]
    }
   ],
   "source": [
    "# transformar string em float\n",
    "\n",
    "# transformar os valores de strings em numeros\n",
    "\n",
    "df['preço'] = df['preço'].str.replace('R$', '') \n",
    "df['preço'] = df['preço'].str.replace('.', '',)\n",
    "df['preço'] = df['preço'].str.replace(',', '.') \n",
    "df['preço'] = df['preço'].str.strip() \n",
    "df['preço'] = df['preço'].astype(float)\n",
    "\n",
    "print(df['preço'].head(10))\n",
    "\n",
    "                        \n",
    "\n",
    "\n"
   ]
  },
  {
   "cell_type": "code",
   "execution_count": 332,
   "metadata": {},
   "outputs": [],
   "source": [
    "# biblioteca \n",
    "\n",
    "# dicionario com palavras\n",
    "dicionario_palavras = {\n",
    "    'Processadores': ['processador', 'processadores'],\n",
    "    'Intel': ['intel', 'Intel'],\n",
    "    'Ryzen': ['Ryzen', 'ryzen'],\n",
    "    'AMD': ['AMD', 'AMd', 'Amd', \"amd\"]\n",
    "    \n",
    "}\n"
   ]
  },
  {
   "cell_type": "code",
   "execution_count": 333,
   "metadata": {},
   "outputs": [],
   "source": [
    "# verifica se a palavra esta no dicionario\n",
    "\n",
    "def contem_palavra_dicionario(texto, dicionario):\n",
    "    texto = str(texto).lower()\n",
    "    for palavras in dicionario.values():\n",
    "        for palavra in palavras:\n",
    "            if palavra.lower() in texto:\n",
    "                return True\n",
    "    return False"
   ]
  },
  {
   "cell_type": "code",
   "execution_count": 334,
   "metadata": {},
   "outputs": [],
   "source": [
    "# armazena as palavras \n",
    "\n",
    "indices_para_remover = []\n",
    "\n",
    "for i in df.index:\n",
    "    texto = df.at[i, 'marca']\n",
    "    if not contem_palavra_dicionario(texto, dicionario_palavras):\n",
    "        indices_para_remover.append(i)"
   ]
  },
  {
   "cell_type": "code",
   "execution_count": 335,
   "metadata": {},
   "outputs": [
    {
     "name": "stdout",
     "output_type": "stream",
     "text": [
      "0      Processador AMD Ryzen 7 5700X3D, 3.0 GHz, (4.1...\n",
      "1      Processador AMD Ryzen 5 5500, 3.6GHz, Cache 16...\n",
      "2      Processador AMD Ryzen 5 5600GT, 3.6 GHz, (4.6G...\n",
      "3      Processador AMD Ryzen 5 5500, 3.6GHz (4.2GHz M...\n",
      "4      Processador Intel Core i5-12400F, 2.5GHz (4.4G...\n",
      "                             ...                        \n",
      "195    Processador AMD Ryzen 9 7900 4.00ghz, 12-core,...\n",
      "196    Processador Intel I7-2600, 3.80ghz, 8mb, Cache...\n",
      "197    Processador Intel I7-8700 4.6GHz, Cache 12MB, ...\n",
      "198    Processador Intel Core I7 10700K 10ª Geração, ...\n",
      "199    Processador AMD Ryzen Threadripper Pro 5975WX,...\n",
      "Name: marca, Length: 200, dtype: object\n"
     ]
    }
   ],
   "source": [
    "# apaga da tabela\n",
    "\n",
    "df.drop(index=indices_para_remover, inplace=True)\n",
    "df.reset_index(drop=True, inplace=True)\n",
    "\n",
    "print(df['marca'].head(200))"
   ]
  },
  {
   "cell_type": "code",
   "execution_count": 336,
   "metadata": {},
   "outputs": [],
   "source": [
    "def identificar_fabricante(texto):\n",
    "    texto = str(texto).lower()\n",
    "    if any(palavra.lower() in texto for palavra in dicionario_palavras['Intel']):\n",
    "        return 'Intel'\n",
    "    elif any(palavra.lower() in texto for palavra in dicionario_palavras['AMD']) or any(palavra.lower() in texto for palavra in dicionario_palavras['Ryzen']):\n",
    "        return 'AMD'\n",
    "    else:\n",
    "        return 'Desconhecido'"
   ]
  },
  {
   "cell_type": "code",
   "execution_count": 337,
   "metadata": {},
   "outputs": [
    {
     "name": "stdout",
     "output_type": "stream",
     "text": [
      "                                                 marca fabricante\n",
      "0    Processador AMD Ryzen 7 5700X3D, 3.0 GHz, (4.1...        AMD\n",
      "1    Processador AMD Ryzen 5 5500, 3.6GHz, Cache 16...        AMD\n",
      "2    Processador AMD Ryzen 5 5600GT, 3.6 GHz, (4.6G...        AMD\n",
      "3    Processador AMD Ryzen 5 5500, 3.6GHz (4.2GHz M...        AMD\n",
      "4    Processador Intel Core i5-12400F, 2.5GHz (4.4G...      Intel\n",
      "..                                                 ...        ...\n",
      "195  Processador AMD Ryzen 9 7900 4.00ghz, 12-core,...        AMD\n",
      "196  Processador Intel I7-2600, 3.80ghz, 8mb, Cache...      Intel\n",
      "197  Processador Intel I7-8700 4.6GHz, Cache 12MB, ...      Intel\n",
      "198  Processador Intel Core I7 10700K 10ª Geração, ...      Intel\n",
      "199  Processador AMD Ryzen Threadripper Pro 5975WX,...        AMD\n",
      "\n",
      "[200 rows x 2 columns]\n"
     ]
    }
   ],
   "source": [
    "df['fabricante'] = df['marca'].apply(identificar_fabricante)\n",
    "\n",
    "print(df[['marca', 'fabricante']].head(200))"
   ]
  },
  {
   "cell_type": "code",
   "execution_count": 338,
   "metadata": {},
   "outputs": [],
   "source": [
    "import re\n",
    "\n",
    "def extrair_modelo_completo(texto):\n",
    "    texto = str(texto).strip()\n",
    "\n",
    "    # Regex para detectar Ryzen, Core, Pentium, Celeron etc.\n",
    "    match = re.search(\n",
    "        r'\\b(Ryzen\\s?[3-9]|Core\\s+Ultra\\s?[5-9]|Core\\s?i[3-9]|Intel\\s?i[3-9]|i[3-9]|Pentium(?:\\s+Gold|\\s+Silver)?|Celeron)\\s*-?\\s*([A-Za-z]?\\d{3,5})([A-Za-z0-9]*)',\n",
    "        texto,\n",
    "        re.IGNORECASE\n",
    "    )\n",
    "\n",
    "    if match:\n",
    "        serie = match.group(1).title().strip()\n",
    "        numero = match.group(2)\n",
    "        sufixo = match.group(3).upper()\n",
    "        return f\"{serie} {numero}{sufixo}\" if sufixo else f\"{serie} {numero}\"\n",
    "    \n",
    "    return None\n",
    "\n",
    "def extrair_soquete(texto):\n",
    "    texto = str(texto).strip()\n",
    "\n",
    "    # Regex para pegar soquetes tipo AM5, AM4, LGA, FCLGA etc.\n",
    "    match_soquete = re.search(r'\\b(AM5|AM4|LGA\\s?\\d+|FCLGA\\s?\\d+)\\b', texto, re.IGNORECASE)\n",
    "\n",
    "    if match_soquete:\n",
    "        return match_soquete.group(1).upper().replace(\" \", \"\")\n",
    "    \n",
    "    return None\n",
    "\n",
    "# Aplicar extrações\n",
    "df['Modelo'] = df['marca'].apply(extrair_modelo_completo)\n",
    "df['Soquetes'] = df['marca'].apply(extrair_soquete)\n",
    "\n",
    "# Remover linhas onde modelo OU soquete não foi encontrado\n",
    "df = df.dropna(subset=['Modelo', 'Soquetes']).reset_index(drop=True)\n"
   ]
  },
  {
   "cell_type": "code",
   "execution_count": 339,
   "metadata": {},
   "outputs": [],
   "source": [
    "df.to_excel(\"processadores_limpo.xlsx\", index=False)\n",
    "\n"
   ]
  }
 ],
 "metadata": {
  "kernelspec": {
   "display_name": "Python 3",
   "language": "python",
   "name": "python3"
  },
  "language_info": {
   "codemirror_mode": {
    "name": "ipython",
    "version": 3
   },
   "file_extension": ".py",
   "mimetype": "text/x-python",
   "name": "python",
   "nbconvert_exporter": "python",
   "pygments_lexer": "ipython3",
   "version": "3.12.1"
  }
 },
 "nbformat": 4,
 "nbformat_minor": 2
}
